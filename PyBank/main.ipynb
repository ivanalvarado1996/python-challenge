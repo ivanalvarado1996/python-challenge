{
 "cells": [
  {
   "cell_type": "code",
   "execution_count": 1,
   "id": "37bb931f-9b17-400f-91b9-8b85acc69516",
   "metadata": {},
   "outputs": [],
   "source": [
    "import os\n",
    "import csv"
   ]
  },
  {
   "cell_type": "code",
   "execution_count": 28,
   "id": "0a79e99d-1c0e-4250-9547-c858de4404be",
   "metadata": {},
   "outputs": [],
   "source": [
    "csvpath = os.path.join(\"PyBank\", \"Resources\", \"budget_data.csv\",)\n",
    "filesave = os.path.join(\"Pybank\", \"output.txt\")"
   ]
  },
  {
   "cell_type": "code",
   "execution_count": 24,
   "id": "6558c387-66a5-4469-ba2a-593a619fa5d4",
   "metadata": {},
   "outputs": [],
   "source": [
    "Date = []\n",
    "profitlosses = []\n",
    "nettotal = 0\n",
    "greatestincrease = 0\n",
    "greatestdecrease = 9999999999\n",
    "totalmonths = 0"
   ]
  },
  {
   "cell_type": "code",
   "execution_count": 25,
   "id": "b0acddf5-273c-4719-9458-e2d5aeb5f5b7",
   "metadata": {},
   "outputs": [],
   "source": [
    "with open(csvpath, newline=\"\") as csvfile:\n",
    "    csvreader = csv.reader(csvfile, delimiter=\",\")\n",
    "    header=next(csvreader)\n",
    "    firstrow=next(csvreader)\n",
    "    \n",
    "    nettotal = int(firstrow[1])\n",
    "    previousnet = int(firstrow[1])\n",
    "    totalmonths +=1 \n",
    "    \n",
    "    for item in csvreader:\n",
    "        nettotal += int(item[1])\n",
    "        totalmonths +=1\n",
    "        monthlychange = int(item[1])-previousnet\n",
    "        previousnet = int(item[1])\n",
    "        profitlosses.append(monthlychange)\n",
    "        \n",
    "        if monthlychange > greatestincrease:\n",
    "            greatestincrease =monthlychange \n",
    "        if monthlychange < greatestdecrease:\n",
    "            greatestdecrease =monthlychange\n",
    "        \n",
    "    "
   ]
  },
  {
   "cell_type": "code",
   "execution_count": 26,
   "id": "d0bfe63d-1e93-4cee-a381-22b7e3d14d34",
   "metadata": {},
   "outputs": [],
   "source": [
    "averagechange=round(sum(profitlosses) / len(profitlosses),2)\n",
    "                "
   ]
  },
  {
   "cell_type": "code",
   "execution_count": 32,
   "id": "29de498f-47f0-43ad-804f-b48222d79415",
   "metadata": {},
   "outputs": [],
   "source": [
    "with open(filesave, \"w\") as txt_file:\n",
    "    txt_file.write(f\"Financial Analysis\\n\")\n",
    "    txt_file.write(f\"----------------------------\\n\")\n",
    "    txt_file.write(f\"Total Months: {totalmonths}\\n\")\n",
    "    txt_file.write(f\"total: {nettotal}\\n\")\n",
    "    txt_file.write(f\"average: {averagechange}\\n\")\n",
    "    txt_file.write(f\"total: {greatestincrease}\\n\")\n",
    "    txt_file.write(f\"total: {greatestdecrease}\\n\")"
   ]
  }
 ],
 "metadata": {
  "kernelspec": {
   "display_name": "Python 3 (ipykernel)",
   "language": "python",
   "name": "python3"
  },
  "language_info": {
   "codemirror_mode": {
    "name": "ipython",
    "version": 3
   },
   "file_extension": ".py",
   "mimetype": "text/x-python",
   "name": "python",
   "nbconvert_exporter": "python",
   "pygments_lexer": "ipython3",
   "version": "3.9.16"
  }
 },
 "nbformat": 4,
 "nbformat_minor": 5
}
